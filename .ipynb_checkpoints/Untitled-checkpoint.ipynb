{
 "cells": [
  {
   "cell_type": "code",
   "execution_count": null,
   "metadata": {},
   "outputs": [],
   "source": []
  },
  {
   "cell_type": "code",
   "execution_count": 23,
   "metadata": {},
   "outputs": [
    {
     "name": "stdout",
     "output_type": "stream",
     "text": [
      "출판\n",
      "만화\n",
      "(AND: ('selected_company_filter_list__filter_name', '출판'), ('selected_company_filter_list__filter_name', '만화'))\n",
      "SELECT `supporting_business_startup`.`id`, `supporting_business_startup`.`user_id`, `supporting_business_startup`.`company_name`, `supporting_business_startup`.`established_date`, `supporting_business_startup`.`logo`, `supporting_business_startup`.`back_img`, `supporting_business_startup`.`company_short_desc`, `supporting_business_startup`.`company_intro`, `supporting_business_startup`.`company_youtube`, `supporting_business_startup`.`company_facebook`, `supporting_business_startup`.`company_instagram`, `supporting_business_startup`.`company_website`, `supporting_business_startup`.`address_0`, `supporting_business_startup`.`address_1`, `supporting_business_startup`.`repre_name`, `supporting_business_startup`.`repre_email`, `supporting_business_startup`.`repre_tel`, `supporting_business_startup`.`mark_name`, `supporting_business_startup`.`mark_email`, `supporting_business_startup`.`mark_tel`, `supporting_business_startup`.`company_keyword`, `supporting_business_startup`.`company_total_employee`, `supporting_business_startup`.`company_hold_employee`, `supporting_business_startup`.`company_assurance_employee`, `supporting_business_startup`.`revenue_before_year_0`, `supporting_business_startup`.`revenue_before_year_1`, `supporting_business_startup`.`revenue_before_year_2`, `supporting_business_startup`.`revenue_before_0`, `supporting_business_startup`.`revenue_before_1`, `supporting_business_startup`.`revenue_before_2`, `supporting_business_startup`.`export_before_year_0`, `supporting_business_startup`.`export_before_year_1`, `supporting_business_startup`.`export_before_year_2`, `supporting_business_startup`.`export_before_0`, `supporting_business_startup`.`export_before_1`, `supporting_business_startup`.`export_before_2`, `supporting_business_startup`.`export_before_nation_0`, `supporting_business_startup`.`export_before_nation_1`, `supporting_business_startup`.`export_before_nation_2`, `supporting_business_startup`.`ip_chk`, `supporting_business_startup`.`revenue_chk`, `supporting_business_startup`.`export_chk`, `supporting_business_startup`.`company_invest_chk`, `supporting_business_startup`.`company_kind`, `supporting_business_startup`.`attached_ip_file`, `supporting_business_startup`.`attached_ir_file`, `supporting_business_startup`.`attached_cert_file`, `supporting_business_startup`.`attached_tax_file`, `supporting_business_startup`.`attached_fund_file`, `supporting_business_startup`.`attached_ppt_file`, `supporting_business_startup`.`attached_etc_file` FROM `supporting_business_startup` INNER JOIN `company_filter_with_startup` ON (`supporting_business_startup`.`id` = `company_filter_with_startup`.`startup_id`) INNER JOIN `supporting_business_supportbusinessfilter` ON (`company_filter_with_startup`.`supportbusinessfilter_id` = `supporting_business_supportbusinessfilter`.`id`) WHERE (`supporting_business_supportbusinessfilter`.`filter_name` = 출판 AND `supporting_business_supportbusinessfilter`.`filter_name` = 만화)\n"
     ]
    },
    {
     "ename": "TypeError",
     "evalue": "'Query' object is not iterable",
     "output_type": "error",
     "traceback": [
      "\u001b[1;31m---------------------------------------------------------------------------\u001b[0m",
      "\u001b[1;31mTypeError\u001b[0m                                 Traceback (most recent call last)",
      "\u001b[1;32m<ipython-input-23-093b4160b56f>\u001b[0m in \u001b[0;36m<module>\u001b[1;34m()\u001b[0m\n\u001b[0;32m     11\u001b[0m \u001b[0mprint\u001b[0m\u001b[1;33m(\u001b[0m\u001b[0mresult\u001b[0m\u001b[1;33m)\u001b[0m\u001b[1;33m\u001b[0m\u001b[0m\n\u001b[0;32m     12\u001b[0m \u001b[0mresult_set\u001b[0m\u001b[1;33m=\u001b[0m\u001b[1;33m[\u001b[0m\u001b[1;33m]\u001b[0m\u001b[1;33m\u001b[0m\u001b[0m\n\u001b[1;32m---> 13\u001b[1;33m \u001b[1;32mfor\u001b[0m \u001b[0ms\u001b[0m \u001b[1;32min\u001b[0m \u001b[0mresult\u001b[0m\u001b[1;33m:\u001b[0m\u001b[1;33m\u001b[0m\u001b[0m\n\u001b[0m\u001b[0;32m     14\u001b[0m     \u001b[0mtemp_obj\u001b[0m\u001b[1;33m=\u001b[0m\u001b[1;33m{\u001b[0m\u001b[1;33m}\u001b[0m\u001b[1;33m\u001b[0m\u001b[0m\n\u001b[0;32m     15\u001b[0m     \u001b[0mtemp_obj\u001b[0m\u001b[1;33m[\u001b[0m\u001b[1;34m\"company_name\"\u001b[0m\u001b[1;33m]\u001b[0m \u001b[1;33m=\u001b[0m \u001b[0ms\u001b[0m\u001b[1;33m.\u001b[0m\u001b[0mcompany_name\u001b[0m\u001b[1;33m\u001b[0m\u001b[0m\n",
      "\u001b[1;31mTypeError\u001b[0m: 'Query' object is not iterable"
     ]
    }
   ],
   "source": [
    "filter_list = [\"출판\",\"만화\"]\n",
    "\n",
    "q_obj = Q()\n",
    "selected_filter_list = []\n",
    "result=[]\n",
    "result = Startup.objects.all()\n",
    "for filter in filter_list:\n",
    "    result = Startup.objects.filter(selected_company_filter_list__filter_name=filter)\n",
    "print(result)\n",
    "result_set=[]\n",
    "for s in result:\n",
    "    temp_obj={}\n",
    "    temp_obj[\"company_name\"] = s.company_name\n",
    "    temp_obj[\"logo\"] = s.logo\n",
    "    temp_obj[\"company_short_desc\"] = s.company_short_desc\n",
    "  \n",
    "    temp_obj[\"filter\"] = []\n",
    "    temp_obj[\"id\"]=s.id\n",
    "    for t in s.selected_company_filter_list.all():\n",
    "        if t.filter_name != \"\" and t.filter_name != None:\n",
    "            temp_obj[\"filter\"].append(t.filter_name)\n",
    "\n",
    "    result_set.append((temp_obj))\n",
    "print(result_set)"
   ]
  },
  {
   "cell_type": "code",
   "execution_count": null,
   "metadata": {},
   "outputs": [],
   "source": []
  }
 ],
 "metadata": {
  "kernelspec": {
   "display_name": "Django Shell-Plus",
   "language": "python",
   "name": "django_extensions"
  },
  "language_info": {
   "codemirror_mode": {
    "name": "ipython",
    "version": 3
   },
   "file_extension": ".py",
   "mimetype": "text/x-python",
   "name": "python",
   "nbconvert_exporter": "python",
   "pygments_lexer": "ipython3",
   "version": "3.5.1"
  }
 },
 "nbformat": 4,
 "nbformat_minor": 2
}
