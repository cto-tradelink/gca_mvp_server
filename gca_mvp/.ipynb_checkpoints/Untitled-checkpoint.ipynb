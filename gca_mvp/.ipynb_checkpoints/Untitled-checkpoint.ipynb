{
 "cells": [
  {
   "cell_type": "code",
   "execution_count": 2,
   "metadata": {
    "scrolled": true
   },
   "outputs": [
    {
     "name": "stdout",
     "output_type": "stream",
     "text": [
      "here\n",
      "neogelon@gmail.com\n",
      "True\n",
      "domisavio@gdca.or.kr\n",
      "False\n",
      "2\n"
     ]
    }
   ],
   "source": [
    "user = AdditionalUserInfo.objects.get(name=\"cto\")\n",
    "print(user.get_depth())"
   ]
  },
  {
   "cell_type": "code",
   "execution_count": 6,
   "metadata": {},
   "outputs": [
    {
     "name": "stdout",
     "output_type": "stream",
     "text": [
      "<QuerySet [<SupportBusiness: <서부경기문화창조허브 기술장인 및 참가기업> 모집공고>, <SupportBusiness: 2018년 빅스타 선발대회>, <SupportBusiness: 해외진출 IP-법률컨설팅 지원사업>, <SupportBusiness: MDC 공동창작 프로젝트>, <SupportBusiness: 도쿄게임쇼 2018>, <SupportBusiness: 게임스컴 2018>]>\n"
     ]
    }
   ],
   "source": [
    "from django.contrib.auth.models import User\n",
    "import datetime\n",
    "u = User.objects.get(username='gca_manager@test.com')\n",
    "today_min = datetime.datetime.now()\n",
    "sp = SupportBusiness.objects.all().filter(open_status=True).filter(apply_end__gt=today_min).filter(apply_start__lt=today_min)\n",
    "print(sp)"
   ]
  },
  {
   "cell_type": "code",
   "execution_count": null,
   "metadata": {},
   "outputs": [],
   "source": [
    "user = AdditionalUserInfo.objects.get(id=4)\n",
    "print(user)\n",
    "print(user.child_list())"
   ]
  },
  {
   "cell_type": "code",
   "execution_count": null,
   "metadata": {},
   "outputs": [],
   "source": [
    "import inspect \n",
    "inspect.getmembers(user)\n",
    "print((user.additionaluserinfo_set.all()[0]))\n"
   ]
  },
  {
   "cell_type": "code",
   "execution_count": null,
   "metadata": {},
   "outputs": [],
   "source": [
    "#. case1. 3개 항목 모두가 필터 인경우\n",
    "s = Startup.objects.all().filter(filter__name=\"1인제조업\").filter(filter__name=\"AR\").filter(filter__name=\"경기도기업\")\n",
    "print(s)\n",
    "\n",
    "\n",
    "# case2.  영역-1인 기업의 기본장르-출판 별 -*선정자수*- \n",
    "\n",
    "# 1. 타이틀에 위치한 스타트업 항목을 추출\n",
    "s = Startup.objects.all().filter(filter__name=\"1인제조업\")\n",
    "\n",
    "# 기본장르-출판별 추출\n",
    "s = s.filter(filter__name=\"출판\")\n",
    "\n",
    "# 선정자수  => 각 사업 종류별 선정자수 나열\n",
    "sb_kind_list = Filter.objects.all().filter(cat_0=\"지원형태\").values('cat_1').distinct() # => 사업 종류 추출\n",
    "print(sb_kind_list)\n",
    "\n",
    "for kind in sb_kind_list :\n",
    "    num_of_selected=[]\n",
    "    print(kind)\n",
    "    for sb in SupportBusiness.object.all().filter(filter__cat_1=kind):\n",
    "        num_of_selected[kind] = len(Award.objects.all().filter(sb=SupportBusiness.object.get(filter__cat_1=kind)))\n",
    "\n",
    "\n",
    "        \n",
    "        \n"
   ]
  },
  {
   "cell_type": "code",
   "execution_count": 9,
   "metadata": {},
   "outputs": [],
   "source": [
    "for sp in SupportBusiness.objects.all():\n",
    "    sp.confirm_list.add(sp.user)\n",
    " "
   ]
  },
  {
   "cell_type": "code",
   "execution_count": 14,
   "metadata": {},
   "outputs": [
    {
     "ename": "AttributeError",
     "evalue": "'SupportBusiness' object has no attribute 'interest_set'",
     "output_type": "error",
     "traceback": [
      "\u001b[1;31m---------------------------------------------------------------------------\u001b[0m",
      "\u001b[1;31mAttributeError\u001b[0m                            Traceback (most recent call last)",
      "\u001b[1;32m<ipython-input-14-6926de5c3019>\u001b[0m in \u001b[0;36m<module>\u001b[1;34m()\u001b[0m\n\u001b[0;32m      6\u001b[0m     \u001b[0mobj\u001b[0m\u001b[1;33m[\u001b[0m\u001b[1;34m\"title_sub\"\u001b[0m\u001b[1;33m]\u001b[0m\u001b[1;33m=\u001b[0m\u001b[0msp\u001b[0m\u001b[1;33m.\u001b[0m\u001b[0mtitle_sub\u001b[0m\u001b[1;33m\u001b[0m\u001b[0m\n\u001b[0;32m      7\u001b[0m     \u001b[0mobj\u001b[0m\u001b[1;33m[\u001b[0m\u001b[1;34m\"short_desc\"\u001b[0m\u001b[1;33m]\u001b[0m\u001b[1;33m=\u001b[0m\u001b[0msp\u001b[0m\u001b[1;33m.\u001b[0m\u001b[0mshort_desc\u001b[0m\u001b[1;33m\u001b[0m\u001b[0m\n\u001b[1;32m----> 8\u001b[1;33m     \u001b[0mobj\u001b[0m\u001b[1;33m[\u001b[0m\u001b[1;34m\"int\"\u001b[0m\u001b[1;33m]\u001b[0m\u001b[1;33m=\u001b[0m \u001b[0mlen\u001b[0m\u001b[1;33m(\u001b[0m\u001b[0msp\u001b[0m\u001b[1;33m.\u001b[0m\u001b[0minterest_set\u001b[0m\u001b[1;33m)\u001b[0m\u001b[1;33m\u001b[0m\u001b[0m\n\u001b[0m\u001b[0;32m      9\u001b[0m     \u001b[1;32mfor\u001b[0m \u001b[0mf\u001b[0m \u001b[1;32min\u001b[0m \u001b[0msp\u001b[0m\u001b[1;33m.\u001b[0m\u001b[0mfilter\u001b[0m\u001b[1;33m.\u001b[0m\u001b[0mall\u001b[0m\u001b[1;33m(\u001b[0m\u001b[1;33m)\u001b[0m\u001b[1;33m:\u001b[0m\u001b[1;33m\u001b[0m\u001b[0m\n\u001b[0;32m     10\u001b[0m         \u001b[0mobj\u001b[0m\u001b[1;33m[\u001b[0m\u001b[1;34m\"tag\"\u001b[0m\u001b[1;33m]\u001b[0m\u001b[1;33m.\u001b[0m\u001b[0mappend\u001b[0m\u001b[1;33m(\u001b[0m\u001b[0mf\u001b[0m\u001b[1;33m.\u001b[0m\u001b[0mname\u001b[0m\u001b[1;33m)\u001b[0m\u001b[1;33m\u001b[0m\u001b[0m\n",
      "\u001b[1;31mAttributeError\u001b[0m: 'SupportBusiness' object has no attribute 'interest_set'"
     ]
    }
   ],
   "source": [
    "for sp in SupportBusiness.objects.all():\n",
    "    obj = {}\n",
    "    obj[\"tag\"] =[]\n",
    "    obj[\"title\"] = sp.title\n",
    "    obj[\"due\"] = sp.apply_end\n",
    "    obj[\"title_sub\"]=sp.title_sub\n",
    "    obj[\"short_desc\"]=sp.short_desc\n",
    "    obj[\"int\"]= (sp.interest_set)\n",
    "    for f in sp.filter.all():\n",
    "        obj[\"tag\"].append(f.name)\n",
    "    print(obj)"
   ]
  },
  {
   "cell_type": "code",
   "execution_count": null,
   "metadata": {},
   "outputs": [],
   "source": []
  },
  {
   "cell_type": "code",
   "execution_count": null,
   "metadata": {},
   "outputs": [],
   "source": []
  },
  {
   "cell_type": "code",
   "execution_count": null,
   "metadata": {},
   "outputs": [],
   "source": []
  }
 ],
 "metadata": {
  "kernelspec": {
   "display_name": "Django Shell-Plus",
   "language": "python",
   "name": "django_extensions"
  },
  "language_info": {
   "codemirror_mode": {
    "name": "ipython",
    "version": 3
   },
   "file_extension": ".py",
   "mimetype": "text/x-python",
   "name": "python",
   "nbconvert_exporter": "python",
   "pygments_lexer": "ipython3",
   "version": "3.5.1"
  }
 },
 "nbformat": 4,
 "nbformat_minor": 2
}
